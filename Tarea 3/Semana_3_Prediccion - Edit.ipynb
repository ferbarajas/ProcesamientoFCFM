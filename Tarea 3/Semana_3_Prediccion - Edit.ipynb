{
  "cells": [
    {
      "cell_type": "markdown",
      "metadata": {},
      "source": [
        "# Tarea 3: Procesamiento de Datos\n",
        "- Fernando Barajas Ramírez\n",
        "- Matrícula: 2085375\n",
        "- Github: https://github.com/ferbarajas/ProcesamientoFCFM"
      ]
    },
    {
      "cell_type": "code",
      "execution_count": 64,
      "metadata": {
        "colab": {
          "base_uri": "https://localhost:8080/",
          "height": 791
        },
        "id": "eHEQEJ5ArbQN",
        "outputId": "17c2cd37-64b5-4efd-f120-c5571b3e0526"
      },
      "outputs": [
        {
          "data": {
            "text/html": [
              "<div>\n",
              "<style scoped>\n",
              "    .dataframe tbody tr th:only-of-type {\n",
              "        vertical-align: middle;\n",
              "    }\n",
              "\n",
              "    .dataframe tbody tr th {\n",
              "        vertical-align: top;\n",
              "    }\n",
              "\n",
              "    .dataframe thead th {\n",
              "        text-align: right;\n",
              "    }\n",
              "</style>\n",
              "<table border=\"1\" class=\"dataframe\">\n",
              "  <thead>\n",
              "    <tr style=\"text-align: right;\">\n",
              "      <th></th>\n",
              "      <th>title</th>\n",
              "      <th>body</th>\n",
              "      <th>brand</th>\n",
              "    </tr>\n",
              "  </thead>\n",
              "  <tbody>\n",
              "    <tr>\n",
              "      <th>0</th>\n",
              "      <td>Stupid phone</td>\n",
              "      <td>DON'T BUY OUT OF SERVICE</td>\n",
              "      <td>Motorola</td>\n",
              "    </tr>\n",
              "    <tr>\n",
              "      <th>1</th>\n",
              "      <td>Phones locked</td>\n",
              "      <td>1 star because the phones locked so I have to ...</td>\n",
              "      <td>Motorola</td>\n",
              "    </tr>\n",
              "    <tr>\n",
              "      <th>2</th>\n",
              "      <td>Excellent product</td>\n",
              "      <td>The product has been very good. I had used thi...</td>\n",
              "      <td>Motorola</td>\n",
              "    </tr>\n",
              "    <tr>\n",
              "      <th>3</th>\n",
              "      <td>Nice, but</td>\n",
              "      <td>I bought this phone to replace an LG phone tha...</td>\n",
              "      <td>Motorola</td>\n",
              "    </tr>\n",
              "    <tr>\n",
              "      <th>4</th>\n",
              "      <td>It seems it doesn't work with the existing AT&amp;...</td>\n",
              "      <td>I purchased this phone for my AT&amp;T phone repla...</td>\n",
              "      <td>Motorola</td>\n",
              "    </tr>\n",
              "  </tbody>\n",
              "</table>\n",
              "</div>"
            ],
            "text/plain": [
              "                                               title  \\\n",
              "0                                       Stupid phone   \n",
              "1                                      Phones locked   \n",
              "2                                  Excellent product   \n",
              "3                                          Nice, but   \n",
              "4  It seems it doesn't work with the existing AT&...   \n",
              "\n",
              "                                                body     brand  \n",
              "0                           DON'T BUY OUT OF SERVICE  Motorola  \n",
              "1  1 star because the phones locked so I have to ...  Motorola  \n",
              "2  The product has been very good. I had used thi...  Motorola  \n",
              "3  I bought this phone to replace an LG phone tha...  Motorola  \n",
              "4  I purchased this phone for my AT&T phone repla...  Motorola  "
            ]
          },
          "execution_count": 64,
          "metadata": {},
          "output_type": "execute_result"
        }
      ],
      "source": [
        "import pandas as pd\n",
        "import numpy as np\n",
        "\n",
        "# Cargar semilla para poder dar reproducibilidad (1)\n",
        "np.random.seed(1234)\n",
        "\n",
        "# Cargar base de datos\n",
        "df = pd.read_csv(\"G:\\My Drive\\MCD\\TRABAJO DE CLASE\\(T4) Procesamiento de Datos\\Tarea 3\\phones.csv\")\n",
        "df.head()"
      ]
    },
    {
      "cell_type": "markdown",
      "metadata": {},
      "source": [
        "Visualización de reseñas por marca:"
      ]
    },
    {
      "cell_type": "code",
      "execution_count": 65,
      "metadata": {},
      "outputs": [
        {
          "data": {
            "text/plain": [
              "array([<AxesSubplot:ylabel='ones'>], dtype=object)"
            ]
          },
          "execution_count": 65,
          "metadata": {},
          "output_type": "execute_result"
        },
        {
          "data": {
            "image/png": "[encoded data removed]",
            "text/plain": [
              "<Figure size 1080x720 with 1 Axes>"
            ]
          },
          "metadata": {},
          "output_type": "display_data"
        }
      ],
      "source": [
        "# Se agrega una columna de 1s para lograr la suma de la cantidad de reseñas por marca\n",
        "df['ones'] = np.ones((df['brand'].shape[0], 1))\n",
        "\n",
        "# Gráfico por marca\n",
        "df.groupby(['brand']).sum().plot(kind='pie', subplots=True, shadow = True,startangle=90,figsize=(15,10), autopct='%1.1f%%',title='Opiniones divididas por marca de teléfono')"
      ]
    },
    {
      "cell_type": "markdown",
      "metadata": {},
      "source": [
        "Para esta tarea se realiza una comparativa entre las marcas Samsung y Apple. Para esto se extraen subconjuntos de cada marca, donde se observa que Samsung tiene una cantidad mucho mayor de datos:"
      ]
    },
    {
      "cell_type": "code",
      "execution_count": 66,
      "metadata": {},
      "outputs": [
        {
          "name": "stdout",
          "output_type": "stream",
          "text": [
            "Samsung:  (30997, 4) \n",
            "\n",
            "Apple:  (4875, 4) \n",
            "\n"
          ]
        },
        {
          "data": {
            "text/plain": [
              "array([<AxesSubplot:ylabel='ones'>], dtype=object)"
            ]
          },
          "execution_count": 66,
          "metadata": {},
          "output_type": "execute_result"
        },
        {
          "data": {
            "image/png": "[encoded data removed]",
            "text/plain": [
              "<Figure size 1080x720 with 1 Axes>"
            ]
          },
          "metadata": {},
          "output_type": "display_data"
        }
      ],
      "source": [
        "brand1 = df[(df.brand == \"Samsung\")]\n",
        "brand2 = df[(df.brand == \"Apple\")]\n",
        "print(\"Samsung: \", brand1.shape,\"\\n\")\n",
        "print(\"Apple: \", brand2.shape,\"\\n\")\n",
        "\n",
        "df_temp = pd.concat([brand1, brand2])\n",
        "\n",
        "# Porcentaje por marcas de intéres\n",
        "df_temp.groupby(['brand']).sum().plot(kind='pie', subplots=True, shadow = True,startangle=90,figsize=(15,10), autopct='%1.1f%%',title='Porcentajes de reseñas realizadas para las marcas Samsung y Apple')"
      ]
    },
    {
      "cell_type": "markdown",
      "metadata": {},
      "source": [
        "Se realiza un muestreo de las reseñas de Samsung, para disminuir la cantidad de datos a analizar:"
      ]
    },
    {
      "cell_type": "code",
      "execution_count": 67,
      "metadata": {},
      "outputs": [
        {
          "name": "stdout",
          "output_type": "stream",
          "text": [
            "Samsung subset:  (4875, 4) \n",
            "\n",
            "Datos:  (9750, 4) \n",
            "\n"
          ]
        },
        {
          "data": {
            "text/plain": [
              "array([<AxesSubplot:ylabel='ones'>], dtype=object)"
            ]
          },
          "execution_count": 67,
          "metadata": {},
          "output_type": "execute_result"
        },
        {
          "data": {
            "image/png": "[encoded data removed]",
            "text/plain": [
              "<Figure size 1080x720 with 1 Axes>"
            ]
          },
          "metadata": {},
          "output_type": "display_data"
        }
      ],
      "source": [
        "brand1_ss = brand1.sample(brand2.shape[0])\n",
        "df = pd.concat([brand2, brand1_ss])\n",
        "\n",
        "print(\"Samsung subset: \", brand1_ss.shape,\"\\n\")\n",
        "print(\"Datos: \", df.shape,\"\\n\")\n",
        "\n",
        "# Porcentaje por marcas de intéres\n",
        "df.groupby(['brand']).sum().plot(kind='pie', subplots=True, shadow = True,startangle=90,figsize=(15,10), autopct='%1.1f%%',title='Porcentajes de reseñas realizadas para las marcas Samsung y Apple')"
      ]
    },
    {
      "cell_type": "markdown",
      "metadata": {},
      "source": [
        "Validar y eliminar valores nulos:"
      ]
    },
    {
      "cell_type": "code",
      "execution_count": 68,
      "metadata": {
        "colab": {
          "base_uri": "https://localhost:8080/"
        },
        "id": "_mGIiXrmsOtq",
        "outputId": "dda6a86a-1944-45f2-ef56-5999527e0573"
      },
      "outputs": [
        {
          "name": "stdout",
          "output_type": "stream",
          "text": [
            "<class 'pandas.core.frame.DataFrame'>\n",
            "Int64Index: 9750 entries, 13192 to 44315\n",
            "Data columns (total 4 columns):\n",
            " #   Column  Non-Null Count  Dtype  \n",
            "---  ------  --------------  -----  \n",
            " 0   title   9750 non-null   object \n",
            " 1   body    9750 non-null   object \n",
            " 2   brand   9750 non-null   object \n",
            " 3   ones    9750 non-null   float64\n",
            "dtypes: float64(1), object(3)\n",
            "memory usage: 380.9+ KB\n"
          ]
        }
      ],
      "source": [
        "df = df[pd.notnull(df['brand'])]\n",
        "df.info()"
      ]
    },
    {
      "cell_type": "markdown",
      "metadata": {},
      "source": [
        "Eliminar columnas inncesarias. Solo se conserva el cuerpo de la reseña y la marca del teléfono"
      ]
    },
    {
      "cell_type": "code",
      "execution_count": 69,
      "metadata": {
        "colab": {
          "base_uri": "https://localhost:8080/"
        },
        "id": "brXkeL_HsbNF",
        "outputId": "a21a78f6-2d74-4e89-f487-8a1b36ab979d"
      },
      "outputs": [
        {
          "data": {
            "text/plain": [
              "Index(['brand', 'body'], dtype='object')"
            ]
          },
          "execution_count": 69,
          "metadata": {},
          "output_type": "execute_result"
        }
      ],
      "source": [
        "col = ['brand', 'body']\n",
        "df = df[col]\n",
        "df.columns"
      ]
    },
    {
      "cell_type": "markdown",
      "metadata": {},
      "source": [
        "Se asigna un id a cada marca:\n",
        "\n",
        "- Apple:    0\n",
        "- Samsung:  1"
      ]
    },
    {
      "cell_type": "code",
      "execution_count": 70,
      "metadata": {
        "colab": {
          "base_uri": "https://localhost:8080/",
          "height": 206
        },
        "id": "RTVtMER3seKL",
        "outputId": "7d353aa4-b0e6-430e-e8dc-4bcd39543c05"
      },
      "outputs": [
        {
          "name": "stdout",
          "output_type": "stream",
          "text": [
            "       brand                                               body  brand_id\n",
            "13192  Apple  Wrong product... it said iPad Air and it’s an ...         0\n",
            "13193  Apple                         I’m had a dent in the back         0\n",
            "13194  Apple  Purchased this certified refurbished iPad Air ...         0\n",
            "13195  Apple                                      Love it!!!!!!         0\n",
            "13196  Apple  There is no sims card in this. iPad. I assumed...         0\n",
            "\n",
            " brand_id_df:  \n",
            "          brand  brand_id\n",
            "13192    Apple         0\n",
            "11137  Samsung         1\n",
            "\n",
            " brand_to_id:  \n",
            " {'Apple': 0, 'Samsung': 1}\n",
            "\n",
            " id_to_brand:  \n",
            " {0: 'Apple', 1: 'Samsung'}\n"
          ]
        }
      ],
      "source": [
        "df['brand_id'] = df['brand'].factorize()[0]\n",
        "from io import StringIO\n",
        "brand_id_df = df[['brand', 'brand_id']].drop_duplicates().sort_values('brand_id')\n",
        "brand_to_id = dict(brand_id_df.values)\n",
        "id_to_brand = dict(brand_id_df[['brand_id', 'brand']].values)\n",
        "\n",
        "print(df.head())\n",
        "print(\"\\n\", \"brand_id_df: \", \"\\n\", brand_id_df)\n",
        "print(\"\\n\", \"brand_to_id: \", \"\\n\", brand_to_id)\n",
        "print(\"\\n\", \"id_to_brand: \", \"\\n\", id_to_brand)"
      ]
    },
    {
      "cell_type": "markdown",
      "metadata": {},
      "source": [
        "Gráfico de número de reseñas por marca:"
      ]
    },
    {
      "cell_type": "code",
      "execution_count": 71,
      "metadata": {
        "colab": {
          "base_uri": "https://localhost:8080/",
          "height": 752
        },
        "id": "I-GJy2RusojS",
        "outputId": "552457e1-a89f-447d-9d6e-57b3cfdd11e3"
      },
      "outputs": [
        {
          "data": {
            "image/png": "[encoded data removed]",
            "text/plain": [
              "<Figure size 576x432 with 1 Axes>"
            ]
          },
          "metadata": {
            "needs_background": "light"
          },
          "output_type": "display_data"
        }
      ],
      "source": [
        "import matplotlib.pyplot as plt\n",
        "fig = plt.figure(figsize=(8,6))\n",
        "df.groupby('brand').body.count().plot.bar(ylim=0)\n",
        "plt.show()"
      ]
    },
    {
      "cell_type": "markdown",
      "metadata": {},
      "source": [
        "Se utiliza el \"TfidfVectorizer\" para convertir la colección de reseñas en una matriz de características de TF-IDF o \"Term Frequency – Inverse Document\" por sus siglas en inglés. \n",
        "\n",
        "Esta función tokeniza\n",
        "\n"
      ]
    },
    {
      "cell_type": "code",
      "execution_count": 72,
      "metadata": {
        "colab": {
          "base_uri": "https://localhost:8080/"
        },
        "id": "MXptpPnZsw1d",
        "outputId": "809bc2fe-260d-4638-e347-f89dfcafb8c9"
      },
      "outputs": [
        {
          "data": {
            "text/plain": [
              "(9750, 6022)"
            ]
          },
          "execution_count": 72,
          "metadata": {},
          "output_type": "execute_result"
        }
      ],
      "source": [
        "from sklearn.feature_extraction.text import TfidfVectorizer\n",
        "\n",
        "tfidf = TfidfVectorizer(sublinear_tf=True, min_df=5, norm='l2', encoding='latin-1', ngram_range=(1, 2), stop_words='english')\n",
        "\n",
        "features = tfidf.fit_transform(df.body).toarray()\n",
        "labels = df.brand_id\n",
        "features.shape"
      ]
    },
    {
      "cell_type": "code",
      "execution_count": 73,
      "metadata": {
        "colab": {
          "base_uri": "https://localhost:8080/"
        },
        "id": "A-ROOLuZs0Qe",
        "outputId": "e6380eac-baa5-4b12-c85a-efe5f2bb77cc"
      },
      "outputs": [
        {
          "name": "stdout",
          "output_type": "stream",
          "text": [
            "# 'Apple':\n",
            "  . Most correlated unigrams:\n",
            "       . samsung\n",
            "       . iphone\n",
            "  . Most correlated bigrams:\n",
            "       . love phone\n",
            "       . great phone\n",
            "# 'Samsung':\n",
            "  . Most correlated unigrams:\n",
            "       . samsung\n",
            "       . iphone\n",
            "  . Most correlated bigrams:\n",
            "       . love phone\n",
            "       . great phone\n"
          ]
        },
        {
          "name": "stderr",
          "output_type": "stream",
          "text": [
            "e:\\Coding\\Python\\Anaconda\\envs\\ProcesamientoDatos\\lib\\site-packages\\sklearn\\utils\\deprecation.py:87: FutureWarning: Function get_feature_names is deprecated; get_feature_names is deprecated in 1.0 and will be removed in 1.2. Please use get_feature_names_out instead.\n",
            "  warnings.warn(msg, category=FutureWarning)\n",
            "e:\\Coding\\Python\\Anaconda\\envs\\ProcesamientoDatos\\lib\\site-packages\\sklearn\\utils\\deprecation.py:87: FutureWarning: Function get_feature_names is deprecated; get_feature_names is deprecated in 1.0 and will be removed in 1.2. Please use get_feature_names_out instead.\n",
            "  warnings.warn(msg, category=FutureWarning)\n"
          ]
        }
      ],
      "source": [
        "from sklearn.feature_selection import chi2\n",
        "import numpy as np\n",
        "\n",
        "N = 2\n",
        "for Body, brand_id in sorted(brand_to_id.items()):\n",
        "  features_chi2 = chi2(features, labels == brand_id)\n",
        "  indices = np.argsort(features_chi2[0])\n",
        "  feature_names = np.array(tfidf.get_feature_names())[indices]\n",
        "  unigrams = [v for v in feature_names if len(v.split(' ')) == 1]\n",
        "  bigrams = [v for v in feature_names if len(v.split(' ')) == 2]\n",
        "  print(\"# '{}':\".format(Body))\n",
        "  print(\"  . Most correlated unigrams:\\n       . {}\".format('\\n       . '.join(unigrams[-N:])))\n",
        "  print(\"  . Most correlated bigrams:\\n       . {}\".format('\\n       . '.join(bigrams[-N:])))"
      ]
    },
    {
      "cell_type": "code",
      "execution_count": 74,
      "metadata": {
        "id": "aYLcquPZs3JF"
      },
      "outputs": [],
      "source": [
        "from sklearn.model_selection import train_test_split\n",
        "from sklearn.feature_extraction.text import CountVectorizer\n",
        "from sklearn.feature_extraction.text import TfidfTransformer\n",
        "from sklearn.naive_bayes import MultinomialNB\n",
        "\n",
        "X_train, X_test, y_train, y_test = train_test_split(df['body'], df['brand'], random_state = 0)\n",
        "count_vect = CountVectorizer()\n",
        "X_train_counts = count_vect.fit_transform(X_train)\n",
        "tfidf_transformer = TfidfTransformer()\n",
        "X_train_tfidf = tfidf_transformer.fit_transform(X_train_counts)\n",
        "\n",
        "clf = MultinomialNB().fit(X_train_tfidf, y_train)"
      ]
    },
    {
      "cell_type": "code",
      "execution_count": 75,
      "metadata": {
        "colab": {
          "base_uri": "https://localhost:8080/"
        },
        "id": "SE4HEU3ps6_w",
        "outputId": "a6b12ddb-316a-4db7-947e-e5d7620ac848"
      },
      "outputs": [],
      "source": [
        "from sklearn.linear_model import LogisticRegression\n",
        "from sklearn.ensemble import RandomForestClassifier\n",
        "from sklearn.naive_bayes import MultinomialNB\n",
        "from sklearn.svm import LinearSVC\n",
        "\n",
        "from sklearn.model_selection import cross_val_score\n",
        "\n",
        "\n",
        "models = [\n",
        "    RandomForestClassifier(n_estimators=200, max_depth=3, random_state=0),\n",
        "    LinearSVC(),\n",
        "    MultinomialNB(),\n",
        "    LogisticRegression(random_state=0),\n",
        "]\n",
        "CV = 5\n",
        "cv_df = pd.DataFrame(index=range(CV * len(models)))\n",
        "entries = []\n",
        "for model in models:\n",
        "  model_name = model.__class__.__name__\n",
        "  accuracies = cross_val_score(model, features, labels, scoring='accuracy', cv=CV)\n",
        "  for fold_idx, accuracy in enumerate(accuracies):\n",
        "    entries.append((model_name, fold_idx, accuracy))\n",
        "cv_df = pd.DataFrame(entries, columns=['model_name', 'fold_idx', 'accuracy'])"
      ]
    },
    {
      "cell_type": "code",
      "execution_count": 76,
      "metadata": {
        "colab": {
          "base_uri": "https://localhost:8080/"
        },
        "id": "wMKKuA3WySmy",
        "outputId": "5ed0d1a6-3865-4c97-cf99-6fda76d18bcf"
      },
      "outputs": [
        {
          "name": "stdout",
          "output_type": "stream",
          "text": [
            "['Apple']\n"
          ]
        }
      ],
      "source": [
        "print(clf.predict(count_vect.transform([\" \"])))"
      ]
    },
    {
      "cell_type": "code",
      "execution_count": 77,
      "metadata": {
        "colab": {
          "base_uri": "https://localhost:8080/"
        },
        "id": "aj-Kk4I3ygFn",
        "outputId": "519be14d-fb0e-4db2-c67d-0c8870cb0723"
      },
      "outputs": [
        {
          "name": "stdout",
          "output_type": "stream",
          "text": [
            "['Samsung']\n"
          ]
        }
      ],
      "source": [
        "print(clf.predict(count_vect.transform([\"I am disputing the inaccurate information the Chex-Systems has on my credit report. I initially submitted a police report on XXXX/XXXX/16 and Chex Systems only deleted the items that I mentioned in the letter and not all the items that were actually listed on the police report. In other words they wanted me to say word for word to them what items were fraudulent. The total disregard of the police report and what accounts that it states that are fraudulent. If they just had paid a little closer attention to the police report I would not been in this position now and they would n't have to research once again. I would like the reported information to be removed : XXXX XXXX XXXX\"])))"
      ]
    },
    {
      "cell_type": "code",
      "execution_count": 78,
      "metadata": {
        "colab": {
          "base_uri": "https://localhost:8080/",
          "height": 297
        },
        "id": "mEdko9fItz6C",
        "outputId": "11b9a021-d9cb-4fd7-eba6-bb5819f894d1"
      },
      "outputs": [
        {
          "data": {
            "image/png": "[encoded data removed]",
            "text/plain": [
              "<Figure size 432x288 with 1 Axes>"
            ]
          },
          "metadata": {
            "needs_background": "light"
          },
          "output_type": "display_data"
        },
        {
          "data": {
            "text/plain": [
              "<Figure size 432x864 with 0 Axes>"
            ]
          },
          "metadata": {},
          "output_type": "display_data"
        }
      ],
      "source": [
        "import seaborn as sns\n",
        "\n",
        "sns.boxplot(x='model_name', y='accuracy', data=cv_df)\n",
        "sns.stripplot(x='model_name', y='accuracy', data=cv_df, \n",
        "              size=8, jitter=True, edgecolor=\"gray\", linewidth=2)\n",
        "plt.figure(figsize=(6, 12))\n",
        "plt.show()"
      ]
    },
    {
      "cell_type": "code",
      "execution_count": 79,
      "metadata": {
        "colab": {
          "base_uri": "https://localhost:8080/"
        },
        "id": "WGpyp2n9uz6a",
        "outputId": "6bf3c731-d5ef-44ee-af7c-056d82d94e85"
      },
      "outputs": [
        {
          "data": {
            "text/plain": [
              "model_name\n",
              "LinearSVC                 0.705846\n",
              "LogisticRegression        0.719282\n",
              "MultinomialNB             0.711385\n",
              "RandomForestClassifier    0.690974\n",
              "Name: accuracy, dtype: float64"
            ]
          },
          "execution_count": 79,
          "metadata": {},
          "output_type": "execute_result"
        }
      ],
      "source": [
        "cv_df.groupby('model_name').accuracy.mean()"
      ]
    },
    {
      "cell_type": "code",
      "execution_count": 80,
      "metadata": {
        "id": "Z-qJDui_u1tJ"
      },
      "outputs": [],
      "source": [
        "from sklearn.model_selection import train_test_split\n",
        "\n",
        "model = LinearSVC()\n",
        "\n",
        "X_train, X_test, y_train, y_test, indices_train, indices_test = train_test_split(features, labels, df.index, test_size=0.33, random_state=0)\n",
        "model.fit(X_train, y_train)\n",
        "y_pred = model.predict(X_test)"
      ]
    },
    {
      "cell_type": "code",
      "execution_count": 81,
      "metadata": {
        "colab": {
          "base_uri": "https://localhost:8080/",
          "height": 752
        },
        "id": "lJkafoEXu4ow",
        "outputId": "2a3c17f1-1635-4731-c611-ad1fec4c1a82"
      },
      "outputs": [
        {
          "data": {
            "image/png": "[encoded data removed]",
            "text/plain": [
              "<Figure size 576x432 with 2 Axes>"
            ]
          },
          "metadata": {
            "needs_background": "light"
          },
          "output_type": "display_data"
        }
      ],
      "source": [
        "from sklearn.metrics import confusion_matrix\n",
        "\n",
        "conf_mat = confusion_matrix(y_test, y_pred)\n",
        "fig, ax = plt.subplots(figsize=(8,6))\n",
        "sns.heatmap(conf_mat, annot=True, fmt='d',\n",
        "            xticklabels=brand_id_df.brand.values, yticklabels=brand_id_df.brand.values)\n",
        "plt.ylabel('Actual')\n",
        "plt.xlabel('Predicted')\n",
        "plt.show()"
      ]
    },
    {
      "cell_type": "code",
      "execution_count": 82,
      "metadata": {
        "colab": {
          "base_uri": "https://localhost:8080/",
          "height": 1000
        },
        "id": "irvmqtUbvCeL",
        "outputId": "d390a2f9-f4d3-4666-f140-1b93f8fc1aae"
      },
      "outputs": [
        {
          "name": "stdout",
          "output_type": "stream",
          "text": [
            "'Samsung' predicted as 'Apple' : 458 examples.\n"
          ]
        },
        {
          "data": {
            "text/html": [
              "<div>\n",
              "<style scoped>\n",
              "    .dataframe tbody tr th:only-of-type {\n",
              "        vertical-align: middle;\n",
              "    }\n",
              "\n",
              "    .dataframe tbody tr th {\n",
              "        vertical-align: top;\n",
              "    }\n",
              "\n",
              "    .dataframe thead th {\n",
              "        text-align: right;\n",
              "    }\n",
              "</style>\n",
              "<table border=\"1\" class=\"dataframe\">\n",
              "  <thead>\n",
              "    <tr style=\"text-align: right;\">\n",
              "      <th></th>\n",
              "      <th>brand</th>\n",
              "      <th>body</th>\n",
              "    </tr>\n",
              "  </thead>\n",
              "  <tbody>\n",
              "    <tr>\n",
              "      <th>5757</th>\n",
              "      <td>Samsung</td>\n",
              "      <td>I doesn t come with memory and earphone</td>\n",
              "    </tr>\n",
              "    <tr>\n",
              "      <th>36852</th>\n",
              "      <td>Samsung</td>\n",
              "      <td>First I would like to say that I am very satis...</td>\n",
              "    </tr>\n",
              "    <tr>\n",
              "      <th>12093</th>\n",
              "      <td>Samsung</td>\n",
              "      <td>Loving the phone.</td>\n",
              "    </tr>\n",
              "    <tr>\n",
              "      <th>38280</th>\n",
              "      <td>Samsung</td>\n",
              "      <td>Bad condition I received it with open carton &amp;...</td>\n",
              "    </tr>\n",
              "    <tr>\n",
              "      <th>46742</th>\n",
              "      <td>Samsung</td>\n",
              "      <td>Battery life is not amazing... but it's not ex...</td>\n",
              "    </tr>\n",
              "    <tr>\n",
              "      <th>...</th>\n",
              "      <td>...</td>\n",
              "      <td>...</td>\n",
              "    </tr>\n",
              "    <tr>\n",
              "      <th>15601</th>\n",
              "      <td>Samsung</td>\n",
              "      <td>Good deal,</td>\n",
              "    </tr>\n",
              "    <tr>\n",
              "      <th>15609</th>\n",
              "      <td>Samsung</td>\n",
              "      <td>Very Good</td>\n",
              "    </tr>\n",
              "    <tr>\n",
              "      <th>52134</th>\n",
              "      <td>Samsung</td>\n",
              "      <td>It has a great look and the cameras amazing!!</td>\n",
              "    </tr>\n",
              "    <tr>\n",
              "      <th>49898</th>\n",
              "      <td>Samsung</td>\n",
              "      <td>It works awesomely good!</td>\n",
              "    </tr>\n",
              "    <tr>\n",
              "      <th>8910</th>\n",
              "      <td>Samsung</td>\n",
              "      <td>Phone keeps on shutting off</td>\n",
              "    </tr>\n",
              "  </tbody>\n",
              "</table>\n",
              "<p>458 rows × 2 columns</p>\n",
              "</div>"
            ],
            "text/plain": [
              "         brand                                               body\n",
              "5757   Samsung            I doesn t come with memory and earphone\n",
              "36852  Samsung  First I would like to say that I am very satis...\n",
              "12093  Samsung                                  Loving the phone.\n",
              "38280  Samsung  Bad condition I received it with open carton &...\n",
              "46742  Samsung  Battery life is not amazing... but it's not ex...\n",
              "...        ...                                                ...\n",
              "15601  Samsung                                         Good deal,\n",
              "15609  Samsung                                          Very Good\n",
              "52134  Samsung      It has a great look and the cameras amazing!!\n",
              "49898  Samsung                           It works awesomely good!\n",
              "8910   Samsung                        Phone keeps on shutting off\n",
              "\n",
              "[458 rows x 2 columns]"
            ]
          },
          "metadata": {},
          "output_type": "display_data"
        },
        {
          "name": "stdout",
          "output_type": "stream",
          "text": [
            "\n",
            "'Apple' predicted as 'Samsung' : 449 examples.\n"
          ]
        },
        {
          "data": {
            "text/html": [
              "<div>\n",
              "<style scoped>\n",
              "    .dataframe tbody tr th:only-of-type {\n",
              "        vertical-align: middle;\n",
              "    }\n",
              "\n",
              "    .dataframe tbody tr th {\n",
              "        vertical-align: top;\n",
              "    }\n",
              "\n",
              "    .dataframe thead th {\n",
              "        text-align: right;\n",
              "    }\n",
              "</style>\n",
              "<table border=\"1\" class=\"dataframe\">\n",
              "  <thead>\n",
              "    <tr style=\"text-align: right;\">\n",
              "      <th></th>\n",
              "      <th>brand</th>\n",
              "      <th>body</th>\n",
              "    </tr>\n",
              "  </thead>\n",
              "  <tbody>\n",
              "    <tr>\n",
              "      <th>49539</th>\n",
              "      <td>Apple</td>\n",
              "      <td>It’s great</td>\n",
              "    </tr>\n",
              "    <tr>\n",
              "      <th>40274</th>\n",
              "      <td>Apple</td>\n",
              "      <td>Seriously so happy about my phone love love lo...</td>\n",
              "    </tr>\n",
              "    <tr>\n",
              "      <th>37771</th>\n",
              "      <td>Apple</td>\n",
              "      <td>Very good, the seller presented a charging device</td>\n",
              "    </tr>\n",
              "    <tr>\n",
              "      <th>28100</th>\n",
              "      <td>Apple</td>\n",
              "      <td>it has a very short battery life, but overall ...</td>\n",
              "    </tr>\n",
              "    <tr>\n",
              "      <th>28727</th>\n",
              "      <td>Apple</td>\n",
              "      <td>Great phone and great seller , recommended!</td>\n",
              "    </tr>\n",
              "    <tr>\n",
              "      <th>...</th>\n",
              "      <td>...</td>\n",
              "      <td>...</td>\n",
              "    </tr>\n",
              "    <tr>\n",
              "      <th>26089</th>\n",
              "      <td>Apple</td>\n",
              "      <td>VERY NICE</td>\n",
              "    </tr>\n",
              "    <tr>\n",
              "      <th>40317</th>\n",
              "      <td>Apple</td>\n",
              "      <td>Un desastre, lo devolvi</td>\n",
              "    </tr>\n",
              "    <tr>\n",
              "      <th>27989</th>\n",
              "      <td>Apple</td>\n",
              "      <td>Good phone but does not work for metro pcs</td>\n",
              "    </tr>\n",
              "    <tr>\n",
              "      <th>22996</th>\n",
              "      <td>Apple</td>\n",
              "      <td>Battery to bad</td>\n",
              "    </tr>\n",
              "    <tr>\n",
              "      <th>37576</th>\n",
              "      <td>Apple</td>\n",
              "      <td>The phone had poor reception with T-Mobile. Th...</td>\n",
              "    </tr>\n",
              "  </tbody>\n",
              "</table>\n",
              "<p>449 rows × 2 columns</p>\n",
              "</div>"
            ],
            "text/plain": [
              "       brand                                               body\n",
              "49539  Apple                                         It’s great\n",
              "40274  Apple  Seriously so happy about my phone love love lo...\n",
              "37771  Apple  Very good, the seller presented a charging device\n",
              "28100  Apple  it has a very short battery life, but overall ...\n",
              "28727  Apple        Great phone and great seller , recommended!\n",
              "...      ...                                                ...\n",
              "26089  Apple                                          VERY NICE\n",
              "40317  Apple                            Un desastre, lo devolvi\n",
              "27989  Apple         Good phone but does not work for metro pcs\n",
              "22996  Apple                                     Battery to bad\n",
              "37576  Apple  The phone had poor reception with T-Mobile. Th...\n",
              "\n",
              "[449 rows x 2 columns]"
            ]
          },
          "metadata": {},
          "output_type": "display_data"
        },
        {
          "name": "stdout",
          "output_type": "stream",
          "text": [
            "\n"
          ]
        }
      ],
      "source": [
        "from IPython.display import display\n",
        "\n",
        "for predicted in brand_id_df.brand_id:\n",
        "  for actual in brand_id_df.brand_id:\n",
        "    if predicted != actual and conf_mat[actual, predicted] >= 6:\n",
        "      print(\"'{}' predicted as '{}' : {} examples.\".format(id_to_brand[actual], id_to_brand[predicted], conf_mat[actual, predicted]))\n",
        "      display(df.loc[indices_test[(y_test == actual) & (y_pred == predicted)]][['brand', 'body']])\n",
        "      print('')"
      ]
    },
    {
      "cell_type": "code",
      "execution_count": 83,
      "metadata": {},
      "outputs": [
        {
          "name": "stdout",
          "output_type": "stream",
          "text": [
            "Apple\n",
            "0\n",
            "Samsung\n",
            "1\n"
          ]
        }
      ],
      "source": [
        "A = model.fit(features, labels)\n",
        "from sklearn.feature_selection import chi2\n",
        "\n",
        "N = 2\n",
        "for brand, brand_id in sorted(brand_to_id.items()):\n",
        "  print(brand)\n",
        "  print(brand_id)"
      ]
    },
    {
      "cell_type": "code",
      "execution_count": 84,
      "metadata": {
        "colab": {
          "base_uri": "https://localhost:8080/"
        },
        "id": "oecTr7f3vjjT",
        "outputId": "b128e6ea-5788-4335-b1ec-44c7f1d24bbf"
      },
      "outputs": [
        {
          "name": "stdout",
          "output_type": "stream",
          "text": [
            "\"I requested a refund. This phone sucks.\"\n",
            "  - Predicted as: 'Samsung'\n",
            "\n",
            "\"Great price.\"\n",
            "  - Predicted as: 'Samsung'\n",
            "\n",
            "\"perfect\"\n",
            "  - Predicted as: 'Apple'\n",
            "\n",
            "\"Great phone. I'm satisifed with my purchase.\"\n",
            "  - Predicted as: 'Samsung'\n",
            "\n",
            "\"My old iphone was not working anymore. Just got another one\"\n",
            "  - Predicted as: 'Apple'\n",
            "\n"
          ]
        }
      ],
      "source": [
        "texts = [\"I requested a refund. This phone sucks.\",\n",
        "         \"Great price.\",\n",
        "         \"perfect\",\n",
        "         \"Great phone. I'm satisifed with my purchase.\",\n",
        "         \"My old iphone was not working anymore. Just got another one\"]\n",
        "text_features = tfidf.transform(texts)\n",
        "predictions = model.predict(text_features)\n",
        "for text, predicted in zip(texts, predictions):\n",
        "  print('\"{}\"'.format(text))\n",
        "  print(\"  - Predicted as: '{}'\".format(id_to_brand[predicted]))\n",
        "  print(\"\")"
      ]
    },
    {
      "cell_type": "code",
      "execution_count": 85,
      "metadata": {
        "colab": {
          "base_uri": "https://localhost:8080/"
        },
        "id": "pzjlFC8X0rQ8",
        "outputId": "d71aaba6-2e51-4ea2-b0b5-c44620425e2e"
      },
      "outputs": [
        {
          "name": "stdout",
          "output_type": "stream",
          "text": [
            "['Apple' 'Samsung']\n"
          ]
        }
      ],
      "source": [
        "print(df['brand'].unique())"
      ]
    },
    {
      "cell_type": "code",
      "execution_count": 86,
      "metadata": {
        "colab": {
          "base_uri": "https://localhost:8080/"
        },
        "id": "nbU_R1pJvmJn",
        "outputId": "06bc4f50-3277-485e-f551-72dfd328f50f"
      },
      "outputs": [
        {
          "name": "stdout",
          "output_type": "stream",
          "text": [
            "              precision    recall  f1-score   support\n",
            "\n",
            "           0       0.71      0.72      0.71      1583\n",
            "           1       0.72      0.72      0.72      1635\n",
            "\n",
            "    accuracy                           0.72      3218\n",
            "   macro avg       0.72      0.72      0.72      3218\n",
            "weighted avg       0.72      0.72      0.72      3218\n",
            "\n"
          ]
        }
      ],
      "source": [
        "from sklearn import metrics\n",
        "print(metrics.classification_report(y_test, y_pred))"
      ]
    }
  ],
  "metadata": {
    "colab": {
      "name": "Semana_3_Prediccion.ipynb",
      "provenance": []
    },
    "interpreter": {
      "hash": "d72a1e175ff36f9ad6fed7a6912a3ef1cdaa11495b2e6a4175b937eab7d76dc3"
    },
    "kernelspec": {
      "display_name": "Python 3.7.13 ('ProcesamientoDatos')",
      "language": "python",
      "name": "python3"
    },
    "language_info": {
      "codemirror_mode": {
        "name": "ipython",
        "version": 3
      },
      "file_extension": ".py",
      "mimetype": "text/x-python",
      "name": "python",
      "nbconvert_exporter": "python",
      "pygments_lexer": "ipython3",
      "version": "3.7.13"
    }
  },
  "nbformat": 4,
  "nbformat_minor": 0
}
